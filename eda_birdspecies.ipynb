{
  "cells": [
    {
      "cell_type": "markdown",
      "metadata": {
        "id": "vncDsAP0Gaoa"
      },
      "source": [
        "# **Project Name**    -Bird Species Data Analysis\n",
        "\n"
      ]
    },
    {
      "cell_type": "markdown",
      "metadata": {
        "id": "beRrZCGUAJYm"
      },
      "source": [
        "##### **Project Type**    - EDA\n",
        "##### **Contribution**    - Individual\n",
        "##### **Team Member 1 -** -Siddesh Keshav Vaishnav\n"
      ]
    },
    {
      "cell_type": "markdown",
      "metadata": {
        "id": "FJNUwmbgGyua"
      },
      "source": [
        "# **Project Summary -**"
      ]
    },
    {
      "cell_type": "markdown",
      "metadata": {
        "id": "F6v_1wHtG2nS"
      },
      "source": [
        "This project focuses on analyzing and comparing bird species observations between two distinct habitats — Forest and Grassland — using structured field observation data. The primary aim was to identify differences in biodiversity, environmental conditions, and species distribution, and to visualize patterns that could support ecological insights and conservation decisions.\n",
        "\n",
        "##### **Data Preparation:**\n",
        "The dataset combined observation records from both habitats, each including variables such as date, species identification, count of individuals, temperature, humidity, and location type. The first step was to pair matching observation dates between the two habitats to ensure that comparisons were made under comparable temporal conditions. This eliminated seasonal bias and ensured that observed differences were likely due to habitat variation rather than time-of-year effects.\n",
        "\n",
        "##### **Exploratory Data Analysis:**\n",
        "The EDA phase examined both environmental parameters and species-related metrics. Distributions of temperature and humidity were visualized using violin plots to capture differences in central tendency and variability. Species counts were aggregated to identify the most frequently observed species in each habitat. Monthly observation patterns were initially represented using line charts, although alternative visualizations were explored to improve clarity and visual appeal.\n",
        "\n",
        "Statistical diversity was measured using the Shannon Diversity Index, which accounts for both species richness (number of different species) and evenness (distribution of individuals among species). This index was compared between habitats to assess ecological complexity.\n",
        "\n",
        "##### **Key Findings:**\n",
        "Environmental Conditions – Forest sites showed generally higher humidity levels, while temperature ranges were more stable compared to grasslands, which exhibited greater temperature variability.\n",
        "\n",
        "Species Richness and Abundance – Certain species were dominant in one habitat but rare in the other, indicating clear habitat preferences.\n",
        "\n",
        "Biodiversity Metrics – Shannon Diversity scores suggested that one habitat (Forest) tended to support more even species distributions, whereas Grasslands often had a few highly dominant species.\n",
        "\n",
        "Seasonal/Monthly Trends – Observation counts varied across months, with distinct seasonal peaks for certain habitats, likely tied to migration or breeding cycles.\n",
        "\n",
        "Visualization Choices\n",
        "Multiple plot types were used to ensure data patterns were clear and engaging:\n",
        "\n",
        "Violin plots for distribution analysis of temperature and humidity\n",
        "\n",
        "Bar charts for top species counts by habitat\n",
        "\n",
        "Line/alternative plots for monthly observation trends\n",
        "\n",
        "Boxplots for Shannon Diversity comparison\n",
        "\n",
        "Care was taken to select color palettes and layouts that both enhance readability and maintain consistency across visualizations.\n",
        "\n",
        "##### **Conclusion:**\n",
        "This analysis highlights measurable ecological differences between Forest and Grassland habitats in terms of environmental conditions, species composition, and biodiversity indices. Such insights are valuable for conservation planning, as they reveal which habitats are most important for maintaining ecological balance and species diversity. Future work could incorporate more years of data, additional environmental variables (e.g., precipitation, vegetation cover), and advanced modeling to predict species responses to habitat changes.\n",
        "\n",
        "By structuring the workflow into an EDA phase for exploration and an Insights phase for presentation, the project maintains analytical rigor while ensuring that the final deliverables are both informative and accessible to decision-makers.\n",
        "\n"
      ]
    },
    {
      "cell_type": "markdown",
      "metadata": {
        "id": "w6K7xa23Elo4"
      },
      "source": [
        "# **GitHub Link -**"
      ]
    },
    {
      "cell_type": "markdown",
      "metadata": {
        "id": "h1o69JH3Eqqn"
      },
      "source": [
        "https://github.com/SIDDUPAAJI/Bird-Species-Data-Anaylsis"
      ]
    },
    {
      "cell_type": "markdown",
      "metadata": {
        "id": "yQaldy8SH6Dl"
      },
      "source": [
        "# **Problem Statement**\n"
      ]
    },
    {
      "cell_type": "markdown",
      "metadata": {
        "id": "DpeJGUA3kjGy"
      },
      "source": [
        "**Bird populations are key biodiversity indicators. Different habitats support different species and are impacted by climate, human presence, and habitat characteristics.**"
      ]
    },
    {
      "cell_type": "markdown",
      "metadata": {
        "id": "PH-0ReGfmX4f"
      },
      "source": [
        "#### **Define Your Business Objective?**"
      ]
    },
    {
      "cell_type": "markdown",
      "metadata": {
        "id": "PhDvGCAqmjP1"
      },
      "source": [
        "Which habitat supports more species diversity? How do climate variables such as temperature and humidity relate to bird presence? What temporal patterns emerge in bird activity?"
      ]
    },
    {
      "cell_type": "markdown",
      "metadata": {
        "id": "mDgbUHAGgjLW"
      },
      "source": [
        "# **General Guidelines** : -  "
      ]
    },
    {
      "cell_type": "markdown",
      "metadata": {
        "id": "ZrxVaUj-hHfC"
      },
      "source": [
        "1.   Well-structured, formatted, and commented code is required.\n",
        "2.   Exception Handling, Production Grade Code & Deployment Ready Code will be a plus. Those students will be awarded some additional credits.\n",
        "     \n",
        "     The additional credits will have advantages over other students during Star Student selection.\n",
        "       \n",
        "             [ Note: - Deployment Ready Code is defined as, the whole .ipynb notebook should be executable in one go\n",
        "                       without a single error logged. ]\n",
        "\n",
        "3.   Each and every logic should have proper comments.\n",
        "4. You may add as many number of charts you want. Make Sure for each and every chart the following format should be answered.\n",
        "        \n",
        "\n",
        "```\n",
        "# Chart visualization code\n",
        "```\n",
        "            \n",
        "\n",
        "*   Why did you pick the specific chart?\n",
        "*   What is/are the insight(s) found from the chart?\n",
        "* Will the gained insights help creating a positive business impact?\n",
        "Are there any insights that lead to negative growth? Justify with specific reason.\n",
        "\n",
        "5. You have to create at least 20 logical & meaningful charts having important insights.\n",
        "\n",
        "\n",
        "[ Hints : - Do the Vizualization in  a structured way while following \"UBM\" Rule.\n",
        "\n",
        "U - Univariate Analysis,\n",
        "\n",
        "B - Bivariate Analysis (Numerical - Categorical, Numerical - Numerical, Categorical - Categorical)\n",
        "\n",
        "M - Multivariate Analysis\n",
        " ]\n",
        "\n",
        "\n",
        "\n"
      ]
    },
    {
      "cell_type": "markdown",
      "metadata": {
        "id": "O_i_v8NEhb9l"
      },
      "source": [
        "# ***Let's Begin !***"
      ]
    },
    {
      "cell_type": "markdown",
      "metadata": {
        "id": "HhfV-JJviCcP"
      },
      "source": [
        "## ***1. Data Sources & Description***"
      ]
    },
    {
      "cell_type": "markdown",
      "metadata": {
        "id": "Y3lxredqlCYt"
      },
      "source": [
        "### Source Files:"
      ]
    },
    {
      "cell_type": "markdown",
      "metadata": {},
      "source": [
        "Bird_Monitoring_Data_FOREST.XLSX\n",
        "\n",
        "Bird_Monitoring_Data_GRASSLAND.XLSX"
      ]
    },
    {
      "cell_type": "markdown",
      "metadata": {
        "id": "3RnN4peoiCZX"
      },
      "source": [
        "### Key Fields:"
      ]
    },
    {
      "cell_type": "markdown",
      "metadata": {},
      "source": [
        "->Date, Start_Time, End_Time\n",
        "\n",
        "->TaxonCode, Species (bird identity)\n",
        "\n",
        "->Temperature, Humidity\n",
        "\n",
        "->Conservation flags: PIF_Watchlist_Status, Regional_Stewardship_Status\n",
        "\n",
        "->Location_Type, Admin_Unit_Code, Observer"
      ]
    },
    {
      "cell_type": "markdown",
      "metadata": {
        "id": "nA9Y7ga8ng1Z"
      },
      "source": [
        "## ***2. Data Base Creation***"
      ]
    },
    {
      "cell_type": "markdown",
      "metadata": {
        "id": "PBTbrJXOngz2"
      },
      "source": [
        "### Code Explanation"
      ]
    },
    {
      "cell_type": "markdown",
      "metadata": {
        "id": "aJV4KIxSnxay"
      },
      "source": [
        "Here I've used SQL to clean,filter the data within python and created a database.\n",
        "\n"
      ]
    },
    {
      "cell_type": "code",
      "execution_count": null,
      "metadata": {
        "id": "j7xfkqrt5Ag5"
      },
      "outputs": [],
      "source": [
        "import pandas as pd\n",
        "import sqlite3\n",
        "\n",
        "# === 1. File paths ===\n",
        "forest_file = \"C:/Users/sidde/Downloads/Bird_Monitoring_Data_FOREST.XLSX\"\n",
        "grassland_file = \"C:/Users/sidde/Downloads/Bird_Monitoring_Data_GRASSLAND.XLSX\"\n",
        "\n",
        "# === 2. Load sheet names ===\n",
        "forest_sheets = pd.ExcelFile(forest_file).sheet_names\n",
        "grassland_sheets = pd.ExcelFile(grassland_file).sheet_names\n",
        "\n",
        "# === 3. Load & label each sheet ===\n",
        "def load_and_label_sheets(file_path, sheet_names, location_type):\n",
        "    df_list = []\n",
        "    for sheet in sheet_names:\n",
        "        df = pd.read_excel(file_path, sheet_name=sheet)\n",
        "        df['Admin_Unit_Code'] = sheet\n",
        "        df['Location_Type'] = location_type\n",
        "        df_list.append(df)\n",
        "    return pd.concat(df_list, ignore_index=True)\n",
        "\n",
        "forest_data = load_and_label_sheets(forest_file, forest_sheets, \"Forest\")\n",
        "grassland_data = load_and_label_sheets(grassland_file, grassland_sheets, \"Grassland\")\n",
        "\n",
        "# === 4. Merge datasets ===\n",
        "full_data = pd.concat([forest_data, grassland_data], ignore_index=True)\n",
        "\n",
        "# === 5. Clean columns ===\n",
        "full_data['Date'] = pd.to_datetime(full_data['Date'], errors='coerce')\n",
        "full_data['Start_Time'] = pd.to_datetime(full_data['Start_Time'], errors='coerce').dt.time\n",
        "full_data['End_Time'] = pd.to_datetime(full_data['End_Time'], errors='coerce').dt.time\n",
        "full_data['Temperature'] = pd.to_numeric(full_data['Temperature'], errors='coerce')\n",
        "full_data['Humidity'] = pd.to_numeric(full_data['Humidity'], errors='coerce')\n",
        "full_data['Visit'] = pd.to_numeric(full_data['Visit'], errors='coerce')\n",
        "\n",
        "# Boolean-like columns\n",
        "bool_columns = [\n",
        "    'Flyover_Observed', 'PIF_Watchlist_Status', 'Regional_Stewardship_Status',\n",
        "    'Initial_Three_Min_Cnt'\n",
        "]\n",
        "for col in bool_columns:\n",
        "    full_data[col] = full_data[col].astype(str).str.strip().str.lower().replace({'true': True, 'false': False})\n",
        "    full_data[col] = full_data[col].astype('boolean')\n",
        "\n",
        "# === 6. Save to SQLite ===\n",
        "conn = sqlite3.connect(\"bird_observations.db\")\n",
        "full_data.to_sql(\"bird_data\", conn, if_exists=\"replace\", index=False)\n",
        "conn.close()\n",
        "\n",
        "print(\"Database 'bird_observations.db' created successfully!\")"
      ]
    },
    {
      "cell_type": "markdown",
      "metadata": {},
      "source": [
        "### Custom Tables,Dashboard creation\n"
      ]
    },
    {
      "cell_type": "markdown",
      "metadata": {},
      "source": [
        "Here I've used SQL to make different tables inorder to make uniques dashboards in PowerBI.\n",
        "\n",
        "\n"
      ]
    },
    {
      "cell_type": "code",
      "execution_count": null,
      "metadata": {
        "id": "zms12Yq5n-jE"
      },
      "outputs": [],
      "source": [
        "import sqlite3\n",
        "import pandas as pd\n",
        "import numpy as np\n",
        "import os\n",
        "\n",
        "# === 1. Setup ===\n",
        "db_path = \"bird_observations.db\"\n",
        "export_folder = \"exports\"\n",
        "\n",
        "# Create folder if not exists\n",
        "os.makedirs(export_folder, exist_ok=True)\n",
        "\n",
        "# Connect to database\n",
        "conn = sqlite3.connect(db_path)\n",
        "\n",
        "# === 2. Queries dictionary (without LOG in Shannon Index) ===\n",
        "queries = {\n",
        "    # Habitat & Species Overview\n",
        "    \"total_unique_species\": \"\"\"\n",
        "        SELECT COUNT(DISTINCT TaxonCode) AS unique_species\n",
        "        FROM bird_data\n",
        "        WHERE TaxonCode IS NOT NULL\n",
        "    \"\"\",\n",
        "    \"total_observations\": \"\"\"\n",
        "        SELECT COUNT(*) AS total_observations\n",
        "        FROM bird_data\n",
        "    \"\"\",\n",
        "    \"species_count_per_habitat\": \"\"\"\n",
        "        SELECT Location_Type, COUNT(DISTINCT TaxonCode) AS species_count\n",
        "        FROM bird_data\n",
        "        GROUP BY Location_Type\n",
        "    \"\"\",\n",
        "\n",
        "    # Species Rankings\n",
        "    \"top10_species_overall\": \"\"\"\n",
        "        SELECT TaxonCode, COUNT(*) AS observations\n",
        "        FROM bird_data\n",
        "        WHERE TaxonCode IS NOT NULL\n",
        "        GROUP BY TaxonCode\n",
        "        ORDER BY observations DESC\n",
        "        LIMIT 10\n",
        "    \"\"\",\n",
        "    \"top10_species_per_habitat\": \"\"\"\n",
        "        SELECT Location_Type, TaxonCode, COUNT(*) AS observations\n",
        "        FROM bird_data\n",
        "        WHERE TaxonCode IS NOT NULL\n",
        "        GROUP BY Location_Type, TaxonCode\n",
        "        ORDER BY Location_Type, observations DESC\n",
        "    \"\"\",\n",
        "\n",
        "    # Time & Trend Analysis\n",
        "    \"monthly_observation_trend\": \"\"\"\n",
        "        SELECT STRFTIME('%m', Date) AS month, COUNT(*) AS observations\n",
        "        FROM bird_data\n",
        "        WHERE Date IS NOT NULL\n",
        "        GROUP BY month\n",
        "        ORDER BY month\n",
        "    \"\"\",\n",
        "    \"yearly_observation_trend\": \"\"\"\n",
        "        SELECT STRFTIME('%Y', Date) AS year, COUNT(*) AS observations\n",
        "        FROM bird_data\n",
        "        WHERE year IS NOT NULL\n",
        "        GROUP BY year\n",
        "        ORDER BY year\n",
        "    \"\"\",\n",
        "    \"seasonal_patterns\": \"\"\"\n",
        "        SELECT CASE\n",
        "            WHEN STRFTIME('%m', Date) IN ('12','01','02') THEN 'Winter'\n",
        "            WHEN STRFTIME('%m', Date) IN ('03','04','05') THEN 'Spring'\n",
        "            WHEN STRFTIME('%m', Date) IN ('06','07','08') THEN 'Summer'\n",
        "            WHEN STRFTIME('%m', Date) IN ('09','10','11') THEN 'Autumn'\n",
        "        END AS season,\n",
        "        COUNT(*) AS observations\n",
        "        FROM bird_data\n",
        "        WHERE Date IS NOT NULL\n",
        "        GROUP BY season\n",
        "    \"\"\",\n",
        "    \"time_of_day_pattern\": \"\"\"\n",
        "        SELECT CASE\n",
        "            WHEN CAST(STRFTIME('%H', Start_Time) AS INTEGER) BETWEEN 5 AND 11 THEN 'Morning'\n",
        "            WHEN CAST(STRFTIME('%H', Start_Time) AS INTEGER) BETWEEN 12 AND 16 THEN 'Afternoon'\n",
        "            WHEN CAST(STRFTIME('%H', Start_Time) AS INTEGER) BETWEEN 17 AND 20 THEN 'Evening'\n",
        "            ELSE 'Night'\n",
        "        END AS time_of_day,\n",
        "        COUNT(*) AS observations\n",
        "        FROM bird_data\n",
        "        WHERE Start_Time IS NOT NULL\n",
        "        GROUP BY time_of_day\n",
        "    \"\"\",\n",
        "\n",
        "    # Threat Status & Conservation\n",
        "    \"threatened_species_per_habitat\": \"\"\"\n",
        "        SELECT Location_Type, COUNT(DISTINCT TaxonCode) AS threatened_species\n",
        "        FROM bird_data\n",
        "        WHERE PIF_Watchlist_Status = 1\n",
        "        GROUP BY Location_Type\n",
        "    \"\"\",\n",
        "    \"regional_stewardship_species_per_habitat\": \"\"\"\n",
        "        SELECT Location_Type, COUNT(DISTINCT TaxonCode) AS stewardship_species\n",
        "        FROM bird_data\n",
        "        WHERE Regional_Stewardship_Status = 1\n",
        "        GROUP BY Location_Type\n",
        "    \"\"\",\n",
        "\n",
        "    # Environmental Factors\n",
        "    \"temperature_vs_species_richness\": \"\"\"\n",
        "        SELECT ROUND(Temperature, 0) AS temp_rounded, COUNT(DISTINCT TaxonCode) AS species_richness\n",
        "        FROM bird_data\n",
        "        WHERE Temperature IS NOT NULL\n",
        "        GROUP BY temp_rounded\n",
        "        ORDER BY temp_rounded\n",
        "    \"\"\",\n",
        "    \"humidity_vs_species_richness\": \"\"\"\n",
        "        SELECT ROUND(Humidity, 0) AS humidity_rounded, COUNT(DISTINCT TaxonCode) AS species_richness\n",
        "        FROM bird_data\n",
        "        WHERE Humidity IS NOT NULL\n",
        "        GROUP BY humidity_rounded\n",
        "        ORDER BY humidity_rounded\n",
        "    \"\"\",\n",
        "\n",
        "    # Observer & Location Analysis — Step 1 only (counts)\n",
        "    \"species_diversity_per_admin\": \"\"\"\n",
        "        SELECT Admin_Unit_Code, TaxonCode, COUNT(*) AS species_count\n",
        "        FROM bird_data\n",
        "        WHERE TaxonCode IS NOT NULL\n",
        "        GROUP BY Admin_Unit_Code, TaxonCode\n",
        "    \"\"\",\n",
        "    \"top_observers\": \"\"\"\n",
        "        SELECT Observer, COUNT(*) AS total_observations\n",
        "        FROM bird_data\n",
        "        WHERE Observer IS NOT NULL\n",
        "        GROUP BY Observer\n",
        "        ORDER BY total_observations DESC\n",
        "        LIMIT 10\n",
        "    \"\"\"\n",
        "}\n",
        "\n",
        "# === 3. Run all queries except Shannon Index ===\n",
        "for name, query in queries.items():\n",
        "    if name != \"species_diversity_per_admin\":\n",
        "        df = pd.read_sql_query(query, conn)\n",
        "        csv_path = os.path.join(export_folder, f\"{name}.csv\")\n",
        "        df.to_csv(csv_path, index=False)\n",
        "        print(f\" Exported: {csv_path}\")\n",
        "\n",
        "# === 4. Calculate Shannon Index in Python ===\n",
        "df_diversity = pd.read_sql_query(queries[\"species_diversity_per_admin\"], conn)\n",
        "diversity_results = []\n",
        "for admin_unit, group in df_diversity.groupby(\"Admin_Unit_Code\"):\n",
        "    total_count = group[\"species_count\"].sum()\n",
        "    proportions = group[\"species_count\"] / total_count\n",
        "    shannon_index = -np.sum(proportions * np.log(proportions))\n",
        "    diversity_results.append({\n",
        "        \"Admin_Unit_Code\": admin_unit,\n",
        "        \"species_count\": group[\"species_count\"].nunique(),\n",
        "        \"shannon_index\": round(shannon_index, 3)\n",
        "    })\n",
        "\n",
        "df_shannon = pd.DataFrame(diversity_results)\n",
        "csv_path = os.path.join(export_folder, \"species_diversity_per_admin.csv\")\n",
        "df_shannon.to_csv(csv_path, index=False)\n",
        "print(f\" Exported Shannon Index: {csv_path}\")\n",
        "\n",
        "# === 5. Close connection ===\n",
        "conn.close()\n",
        "print(\"\\nAll queries executed and exported successfully!\")\n"
      ]
    },
    {
      "cell_type": "markdown",
      "metadata": {
        "id": "dauF4eBmngu3"
      },
      "source": [
        "## 3. ***Data Wrangling***"
      ]
    },
    {
      "cell_type": "markdown",
      "metadata": {
        "id": "bKJF3rekwFvQ"
      },
      "source": [
        "### Data Wrangling Code"
      ]
    },
    {
      "cell_type": "code",
      "execution_count": null,
      "metadata": {
        "id": "wk-9a2fpoLcV"
      },
      "outputs": [],
      "source": [
        "\n",
        "import matplotlib.pyplot as plt\n",
        "import seaborn as sns\n",
        "import numpy as np\n",
        "import pandas as pd\n",
        "\n",
        "def shannon_diversity(group):\n",
        "    proportions = group.value_counts(normalize=True)\n",
        "    return -np.sum(proportions * np.log(proportions))\n",
        "\n",
        "def generate_combined_visualizations(forest_df, grassland_df):\n",
        "    # Add habitat column\n",
        "    forest_df['Habitat'] = 'Forest'\n",
        "    grassland_df['Habitat'] = 'Grassland'\n",
        "\n",
        "    # Ensure date column is datetime\n",
        "    forest_df['Date'] = pd.to_datetime(forest_df['Date'])\n",
        "    grassland_df['Date'] = pd.to_datetime(grassland_df['Date'])\n",
        "\n",
        "    # Keep only relevant columns\n",
        "    common_cols = ['Date', 'Year', 'AOU_Code', 'Species', 'Temperature', 'Humidity', 'Habitat']\n",
        "    common_cols = [col for col in common_cols if col in forest_df.columns and col in grassland_df.columns]\n",
        "    forest_df = forest_df[common_cols]\n",
        "    grassland_df = grassland_df[common_cols]\n",
        "\n",
        "    # Combine datasets\n",
        "    combined_df = pd.concat([forest_df, grassland_df], ignore_index=True)\n",
        "\n",
        "    # Filter to keep only matching observations in both habitats\n",
        "    paired_df = combined_df.groupby(['Date', 'AOU_Code']).filter(lambda x: x['Habitat'].nunique() == 2)\n",
        "    # Merge the datasets\n",
        "forest_df = pd.read_excel(\"C:/Users/sidde/Downloads/Bird_Monitoring_Data_FOREST.XLSX\")\n",
        "grassland_df = pd.read_excel(\"C:/Users/sidde/Downloads/Bird_Monitoring_Data_GRASSLAND.XLSX\")\n",
        "\n",
        "# Add habitat column\n",
        "forest_df['Habitat'] = 'Forest'\n",
        "grassland_df['Habitat'] = 'Grassland'\n",
        "\n",
        "# Combine them\n",
        "combined_df = pd.concat([forest_df, grassland_df], ignore_index=True)\n",
        "\n",
        "# ---- STANDARDIZE SPECIES COLUMN ----\n",
        "# Try to unify species identification column to \"Species\"\n",
        "if 'Species' in paired_df.columns:\n",
        "    pass  # already correct\n",
        "elif 'Common_Name' in paired_df.columns:\n",
        "    paired_df = paired_df.rename(columns={'Common_Name': 'Species'})\n",
        "elif 'AOU_Code' in paired_df.columns:\n",
        "    paired_df = paired_df.rename(columns={'AOU_Code': 'Species'})\n",
        "else:\n",
        "    raise KeyError(\"No species identification column found. Expected 'Species', 'Common_Name', or 'AOU_Code'.\")\n"
      ]
    },
    {
      "cell_type": "markdown",
      "metadata": {
        "id": "GF8Ens_Soomf"
      },
      "source": [
        "## ***4. Data Vizualization, Storytelling & Experimenting with charts : Understand the relationships between variables***"
      ]
    },
    {
      "cell_type": "markdown",
      "metadata": {
        "id": "0wOQAZs5pc--"
      },
      "source": [
        "#### Chart - 1"
      ]
    },
    {
      "cell_type": "code",
      "execution_count": null,
      "metadata": {
        "id": "7v_ESjsspbW7"
      },
      "outputs": [],
      "source": [
        "\n",
        "# 1. Species Count Comparison\n",
        "species_counts = paired_df.groupby(['Habitat', 'AOU_Code']).size().reset_index(name='Count')\n",
        "plt.figure(figsize=(12,6))\n",
        "sns.barplot(data=species_counts, x='AOU_Code', y='Count', hue='Habitat')\n",
        "plt.title(\"Species Count Comparison (Both Habitats, Same Dates)\")\n",
        "plt.xticks(rotation=90)\n",
        "plt.tight_layout()\n",
        "plt.show()"
      ]
    },
    {
      "cell_type": "markdown",
      "metadata": {
        "id": "K5QZ13OEpz2H"
      },
      "source": [
        "##### 1. Why did you pick the specific chart?"
      ]
    },
    {
      "cell_type": "markdown",
      "metadata": {
        "id": "XESiWehPqBRc"
      },
      "source": [
        "Bar charts are best for directly comparing individual species counts across forest and grassland habitats, clearly highlighting which species dominate in each environment."
      ]
    },
    {
      "cell_type": "markdown",
      "metadata": {
        "id": "lQ7QKXXCp7Bj"
      },
      "source": [
        "##### 2. What is/are the insight(s) found from the chart?"
      ]
    },
    {
      "cell_type": "markdown",
      "metadata": {
        "id": "C_j1G7yiqdRP"
      },
      "source": [
        "The insights reveal habitat preferences and species abundance patterns—valuable for targeting conservation efforts."
      ]
    },
    {
      "cell_type": "markdown",
      "metadata": {
        "id": "448CDAPjqfQr"
      },
      "source": [
        "##### 3. Will the gained insights help creating a positive business impact?\n",
        "Are there any insights that lead to negative growth? Justify with specific reason."
      ]
    },
    {
      "cell_type": "markdown",
      "metadata": {
        "id": "3cspy4FjqxJW"
      },
      "source": [
        "If certain species show extremely low counts in either habitat, it may indicate environmental stress or decline, prompting attention to potential negative impacts."
      ]
    },
    {
      "cell_type": "markdown",
      "metadata": {
        "id": "KSlN3yHqYklG"
      },
      "source": [
        "#### Chart - 2"
      ]
    },
    {
      "cell_type": "code",
      "execution_count": null,
      "metadata": {
        "id": "R4YgtaqtYklH"
      },
      "outputs": [],
      "source": [
        "\n",
        "# Check available columns\n",
        "cols = paired_df.columns\n",
        "\n",
        "# Decide which column to use for grouping\n",
        "if 'Species' in cols:\n",
        "    species_col = 'Species'\n",
        "elif 'Common_Name' in cols:\n",
        "    species_col = 'Common_Name'\n",
        "else:\n",
        "    species_col = 'AOU_Code'  # Fallback\n",
        "\n",
        "# 2.Top 10 common species (or codes if names unavailable)\n",
        "top_species = (\n",
        "    paired_df.groupby(species_col)\n",
        "    .size()\n",
        "    .reset_index(name='TotalCount')\n",
        "    .sort_values('TotalCount', ascending=False)\n",
        "    .head(10)\n",
        ")\n",
        "\n",
        "# Plot\n",
        "plt.figure(figsize=(10, 6))\n",
        "sns.barplot(\n",
        "    data=top_species,\n",
        "    x='TotalCount',\n",
        "    y=species_col,\n",
        "    hue=species_col,           # assign colors per species\n",
        "    palette='viridis',\n",
        "    dodge=False                # keeps it as one bar per species\n",
        ")\n",
        "plt.title('Top 10 Most Common Species')\n",
        "plt.xlabel('Total Count')\n",
        "plt.ylabel(species_col)\n",
        "plt.show()"
      ]
    },
    {
      "cell_type": "markdown",
      "metadata": {
        "id": "t6dVpIINYklI"
      },
      "source": [
        "##### 1. Why did you pick the specific chart?"
      ]
    },
    {
      "cell_type": "markdown",
      "metadata": {
        "id": "5aaW0BYyYklI"
      },
      "source": [
        "A horizontal bar chart clearly displays the top 10 species ranked by their observation counts, making it easy to compare species popularity or abundance visually."
      ]
    },
    {
      "cell_type": "markdown",
      "metadata": {
        "id": "ijmpgYnKYklI"
      },
      "source": [
        "##### 2. What is/are the insight(s) found from the chart?"
      ]
    },
    {
      "cell_type": "markdown",
      "metadata": {
        "id": "PSx9atu2YklI"
      },
      "source": [
        "The chart highlights which bird species are most frequently observed in the dataset, revealing key dominant species across habitats.\n",
        "\n"
      ]
    },
    {
      "cell_type": "markdown",
      "metadata": {
        "id": "-JiQyfWJYklI"
      },
      "source": [
        "##### 3. Will the gained insights help creating a positive business impact?\n",
        "Are there any insights that lead to negative growth? Justify with specific reason."
      ]
    },
    {
      "cell_type": "markdown",
      "metadata": {
        "id": "BcBbebzrYklV"
      },
      "source": [
        "If the top counts are dominated by few species while others have very low counts or are absent, this suggests potential biodiversity loss or ecosystem imbalance that could negatively affect habitat health."
      ]
    },
    {
      "cell_type": "markdown",
      "metadata": {
        "id": "EM7whBJCYoAo"
      },
      "source": [
        "#### Chart - 3"
      ]
    },
    {
      "cell_type": "code",
      "execution_count": null,
      "metadata": {
        "id": "t6GMdE67YoAp"
      },
      "outputs": [],
      "source": [
        "# 3. Temperature Comparison\n",
        "plt.figure(figsize=(10,6))\n",
        "sns.boxplot(data=paired_df, x='Habitat', y='Temperature')\n",
        "plt.title(\"Temperature Distribution for Matching Observations\")\n",
        "plt.tight_layout()\n",
        "plt.show()"
      ]
    },
    {
      "cell_type": "markdown",
      "metadata": {
        "id": "fge-S5ZAYoAp"
      },
      "source": [
        "##### 1. Why did you pick the specific chart?"
      ]
    },
    {
      "cell_type": "markdown",
      "metadata": {
        "id": "5dBItgRVYoAp"
      },
      "source": [
        "A boxplot effectively shows the distribution of temperature values for each habitat, highlighting medians, quartiles, and variability."
      ]
    },
    {
      "cell_type": "markdown",
      "metadata": {
        "id": "85gYPyotYoAp"
      },
      "source": [
        "##### 2. What is/are the insight(s) found from the chart?"
      ]
    },
    {
      "cell_type": "markdown",
      "metadata": {
        "id": "4jstXR6OYoAp"
      },
      "source": [
        "This chart reveals differences and overlaps in temperature ranges experienced by forests versus grasslands during observations, helping understand environmental conditions influencing bird activity."
      ]
    },
    {
      "cell_type": "markdown",
      "metadata": {
        "id": "RoGjAbkUYoAp"
      },
      "source": [
        "##### 3. Will the gained insights help creating a positive business impact?\n",
        "Are there any insights that lead to negative growth? Justify with specific reason."
      ]
    },
    {
      "cell_type": "markdown",
      "metadata": {
        "id": "zfJ8IqMcYoAp"
      },
      "source": [
        "If temperature ranges show extreme values or a shift outside species’ preferred zones, it could signal climate stress or habitat unsuitability, which may negatively impact bird populations."
      ]
    },
    {
      "cell_type": "markdown",
      "metadata": {
        "id": "4Of9eVA-YrdM"
      },
      "source": [
        "#### Chart - 4"
      ]
    },
    {
      "cell_type": "code",
      "execution_count": null,
      "metadata": {
        "id": "irlUoxc8YrdO"
      },
      "outputs": [],
      "source": [
        "# 4. Humidity Comparison with custom colors (Future-proof, with actual categories)\n",
        "plt.figure(figsize=(10,6))\n",
        "sns.violinplot(\n",
        "    data=paired_df,\n",
        "    x='Habitat',\n",
        "    y='Humidity',\n",
        "    hue='Habitat',  \n",
        "    palette={\"Forest\": \"#FFA500\", \"Grassland\": \"#2E8B57\"},  # match your real categories\n",
        "    legend=False\n",
        ")\n",
        "plt.title(\"Humidity Distribution for Matching Observations (Violin Plot)\")\n",
        "plt.tight_layout()\n",
        "plt.show()"
      ]
    },
    {
      "cell_type": "markdown",
      "metadata": {
        "id": "iky9q4vBYrdO"
      },
      "source": [
        "##### 1. Why did you pick the specific chart?"
      ]
    },
    {
      "cell_type": "markdown",
      "metadata": {
        "id": "aJRCwT6DYrdO"
      },
      "source": [
        "The violin plot is ideal for showing the full distribution and density of humidity values in each habitat, giving more detail than boxplots about variability and data spread."
      ]
    },
    {
      "cell_type": "markdown",
      "metadata": {
        "id": "F6T5p64dYrdO"
      },
      "source": [
        "##### 2. What is/are the insight(s) found from the chart?"
      ]
    },
    {
      "cell_type": "markdown",
      "metadata": {
        "id": "Xx8WAJvtYrdO"
      },
      "source": [
        "This chart reveals how humidity levels differ between forest and grassland habitats, highlighting typical ranges and variability, which helps understand environmental preferences affecting bird activity."
      ]
    },
    {
      "cell_type": "markdown",
      "metadata": {
        "id": "y-Ehk30pYrdP"
      },
      "source": [
        "##### 3. Will the gained insights help creating a positive business impact?\n",
        "Are there any insights that lead to negative growth? Justify with specific reason."
      ]
    },
    {
      "cell_type": "markdown",
      "metadata": {
        "id": "jLNxxz7MYrdP"
      },
      "source": [
        "Yes, understanding humidity distributions enables habitat managers to tailor conservation and monitoring strategies to environmental conditions best suited for target species."
      ]
    },
    {
      "cell_type": "markdown",
      "metadata": {
        "id": "bamQiAODYuh1"
      },
      "source": [
        "#### Chart - 5"
      ]
    },
    {
      "cell_type": "code",
      "execution_count": null,
      "metadata": {
        "id": "TIJwrbroYuh3"
      },
      "outputs": [],
      "source": [
        "# 5. Monthly Observation Trend\n",
        "plt.figure(figsize=(10,6))\n",
        "sns.set_style(\"whitegrid\")\n",
        "sns.set_palette(\"Set2\")\n",
        "\n",
        "# Pivot for area-style fill\n",
        "monthly_pivot = monthly_counts.pivot(index='Month', columns='Habitat', values='Count')\n",
        "monthly_pivot.plot(kind='area', alpha=0.7, figsize=(10,6))\n",
        "\n",
        "plt.title(\"Monthly Observation Trend (Area Plot)\")\n",
        "plt.xlabel(\"Month\")\n",
        "plt.ylabel(\"Observation Count\")\n",
        "plt.tight_layout()\n",
        "plt.show()\n",
        "\n",
        "\n"
      ]
    },
    {
      "cell_type": "markdown",
      "metadata": {
        "id": "QHF8YVU7Yuh3"
      },
      "source": [
        "##### 1. Why did you pick the specific chart?"
      ]
    },
    {
      "cell_type": "markdown",
      "metadata": {
        "id": "dcxuIMRPYuh3"
      },
      "source": [
        "An area plot effectively displays the total observation counts across months for both habitats, showing trends and seasonal patterns with an intuitive stacked visual emphasizing fluctuations over time."
      ]
    },
    {
      "cell_type": "markdown",
      "metadata": {
        "id": "GwzvFGzlYuh3"
      },
      "source": [
        "##### 2. What is/are the insight(s) found from the chart?"
      ]
    },
    {
      "cell_type": "markdown",
      "metadata": {
        "id": "uyqkiB8YYuh3"
      },
      "source": [
        "The chart reveals clear seasonal peaks and troughs in bird observations, indicating higher activity or survey effort in certain months (typically spring/summer) across both forests and grasslands."
      ]
    },
    {
      "cell_type": "markdown",
      "metadata": {
        "id": "qYpmQ266Yuh3"
      },
      "source": [
        "##### 3. Will the gained insights help creating a positive business impact?\n",
        "Are there any insights that lead to negative growth? Justify with specific reason."
      ]
    },
    {
      "cell_type": "markdown",
      "metadata": {
        "id": "_WtzZ_hCYuh4"
      },
      "source": [
        "Yes, understanding seasonal trends helps optimize survey timing and resource allocation for conservation efforts, ensuring monitoring is focused during periods of peak bird activity for more effective data collection."
      ]
    },
    {
      "cell_type": "markdown",
      "metadata": {
        "id": "OH-pJp9IphqM"
      },
      "source": [
        "#### Chart - 6"
      ]
    },
    {
      "cell_type": "code",
      "execution_count": null,
      "metadata": {
        "id": "kuRf4wtuphqN"
      },
      "outputs": [],
      "source": [
        "# 6. Daily Observation Count Comparison\n",
        "daily_counts = paired_df.groupby(['Date', 'Habitat']).size().reset_index(name='Count')\n",
        "plt.figure(figsize=(14,6))\n",
        "sns.lineplot(data=daily_counts, x='Date', y='Count', hue='Habitat')\n",
        "plt.title(\"Daily Observation Count Comparison\")\n",
        "plt.tight_layout()\n",
        "plt.show()"
      ]
    },
    {
      "cell_type": "markdown",
      "metadata": {
        "id": "bbFf2-_FphqN"
      },
      "source": [
        "##### 1. Why did you pick the specific chart?"
      ]
    },
    {
      "cell_type": "markdown",
      "metadata": {
        "id": "loh7H2nzphqN"
      },
      "source": [
        "A line plot is ideal for visualizing daily trends over time, showing how observation counts fluctuate day-to-day across both habitats, allowing easy comparison of temporal patterns."
      ]
    },
    {
      "cell_type": "markdown",
      "metadata": {
        "id": "_ouA3fa0phqN"
      },
      "source": [
        "##### 2. What is/are the insight(s) found from the chart?"
      ]
    },
    {
      "cell_type": "markdown",
      "metadata": {
        "id": "VECbqPI7phqN"
      },
      "source": [
        "The chart reveals daily variation in bird observations, highlighting periods of consistent activity, spikes possibly linked to favorable conditions or survey efforts, and differences or similarities in daily trends between forest and grassland habitats."
      ]
    },
    {
      "cell_type": "markdown",
      "metadata": {
        "id": "Seke61FWphqN"
      },
      "source": [
        "##### 3. Will the gained insights help creating a positive business impact?\n",
        "Are there any insights that lead to negative growth? Justify with specific reason."
      ]
    },
    {
      "cell_type": "markdown",
      "metadata": {
        "id": "DW4_bGpfphqN"
      },
      "source": [
        "Yes, understanding daily observation patterns informs optimal scheduling of surveys and resource deployment for monitoring, enhancing data reliability and conservation effort efficiency."
      ]
    },
    {
      "cell_type": "markdown",
      "metadata": {
        "id": "PIIx-8_IphqN"
      },
      "source": [
        "#### Chart - 7"
      ]
    },
    {
      "cell_type": "code",
      "execution_count": null,
      "metadata": {
        "id": "lqAIGUfyphqO"
      },
      "outputs": [],
      "source": [
        "# Pick the species identifier column dynamically\n",
        "cols = paired_df.columns\n",
        "if 'Species' in cols:\n",
        "    species_col = 'Species'\n",
        "elif 'Common_Name' in cols:\n",
        "    species_col = 'Common_Name'\n",
        "else:\n",
        "    species_col = 'AOU_Code'  # fallback to numeric code\n",
        "\n",
        "#7. Shannon Diversity Function\n",
        "from scipy.stats import entropy\n",
        "\n",
        "def shannon_diversity(x):\n",
        "    counts = x.value_counts()\n",
        "    return entropy(counts, base=2)\n",
        "\n",
        "# Calculate diversity\n",
        "diversity = (\n",
        "    paired_df.groupby(['Date','Habitat'])[species_col]\n",
        "    .apply(shannon_diversity)\n",
        "    .reset_index(name='ShannonIndex')\n",
        ")\n",
        "\n",
        "# Plot\n",
        "plt.figure(figsize=(10,6))\n",
        "sns.boxplot(data=diversity, x='Habitat', y='ShannonIndex')\n",
        "plt.title('Shannon Diversity Index by Habitat')\n",
        "plt.xlabel('Habitat')\n",
        "plt.ylabel('Shannon Index')\n",
        "plt.show()"
      ]
    },
    {
      "cell_type": "markdown",
      "metadata": {
        "id": "t27r6nlMphqO"
      },
      "source": [
        "##### 1. Why did you pick the specific chart?"
      ]
    },
    {
      "cell_type": "markdown",
      "metadata": {
        "id": "iv6ro40sphqO"
      },
      "source": [
        "A boxplot is ideal for showing the distribution and variability of the Shannon Diversity Index across habitats, highlighting median values, spread, and potential outliers in diversity scores."
      ]
    },
    {
      "cell_type": "markdown",
      "metadata": {
        "id": "r2jJGEOYphqO"
      },
      "source": [
        "##### 2. What is/are the insight(s) found from the chart?"
      ]
    },
    {
      "cell_type": "markdown",
      "metadata": {
        "id": "Po6ZPi4hphqO"
      },
      "source": [
        "The chart reveals that one habitat (likely forest) tends to have a higher median Shannon Index, indicating greater species diversity and evenness compared to the other habitat (likely grassland). It also shows the variation in diversity observed on different dates within each habitat."
      ]
    },
    {
      "cell_type": "markdown",
      "metadata": {
        "id": "b0JNsNcRphqO"
      },
      "source": [
        "##### 3. Will the gained insights help creating a positive business impact?\n",
        "Are there any insights that lead to negative growth? Justify with specific reason."
      ]
    },
    {
      "cell_type": "markdown",
      "metadata": {
        "id": "xvSq8iUTphqO"
      },
      "source": [
        "Yes, these insights support targeted conservation and habitat management by identifying which habitat maintains richer and more balanced bird communities, guiding resource allocation and preservation efforts effectively."
      ]
    },
    {
      "cell_type": "markdown",
      "metadata": {
        "id": "BZR9WyysphqO"
      },
      "source": [
        "#### Chart - 8"
      ]
    },
    {
      "cell_type": "code",
      "execution_count": null,
      "metadata": {
        "id": "TdPTWpAVphqO"
      },
      "outputs": [],
      "source": [
        "# 8. Temperature vs Humidity Scatter\n",
        "plt.figure(figsize=(10,6))\n",
        "sns.scatterplot(data=paired_df, x='Temperature', y='Humidity', hue='Habitat', alpha=0.7)\n",
        "plt.title(\"Temperature vs Humidity (Both Habitats Present)\")\n",
        "plt.tight_layout()\n",
        "plt.show()"
      ]
    },
    {
      "cell_type": "markdown",
      "metadata": {
        "id": "jj7wYXLtphqO"
      },
      "source": [
        "##### 1. Why did you pick the specific chart?"
      ]
    },
    {
      "cell_type": "markdown",
      "metadata": {
        "id": "Ob8u6rCTphqO"
      },
      "source": [
        "A scatter plot is ideal for visualizing the relationship and distribution between two continuous environmental variables—temperature and humidity—across observations in both habitats. The color hue for habitat allows easy comparison of environmental conditions experienced by forest and grassland areas."
      ]
    },
    {
      "cell_type": "markdown",
      "metadata": {
        "id": "eZrbJ2SmphqO"
      },
      "source": [
        "##### 2. What is/are the insight(s) found from the chart?"
      ]
    },
    {
      "cell_type": "markdown",
      "metadata": {
        "id": "mZtgC_hjphqO"
      },
      "source": [
        "The chart shows how temperature and humidity values cluster for each habitat, revealing differences or overlaps in climatic conditions. It helps identify the typical environmental ranges where birds were observed in forests versus grasslands and whether habitats experience distinct microclimates."
      ]
    },
    {
      "cell_type": "markdown",
      "metadata": {
        "id": "rFu4xreNphqO"
      },
      "source": [
        "##### 3. Will the gained insights help creating a positive business impact?\n",
        "Are there any insights that lead to negative growth? Justify with specific reason."
      ]
    },
    {
      "cell_type": "markdown",
      "metadata": {
        "id": "ey_0qi68phqO"
      },
      "source": [
        "If the scatter shows extreme temperature or humidity values for a habitat outside the optimal range for bird species, it may indicate stressful conditions that could reduce bird diversity and abundance. Such environmental stressors can lead to habitat degradation and negative impact on species survival.Answer Here"
      ]
    },
    {
      "cell_type": "markdown",
      "metadata": {
        "id": "YJ55k-q6phqO"
      },
      "source": [
        "#### Chart - 9"
      ]
    },
    {
      "cell_type": "code",
      "execution_count": null,
      "metadata": {
        "id": "B2aS4O1ophqO"
      },
      "outputs": [],
      "source": [
        "# 9. Heatmap for Top 10 Common Species\n",
        "top_species_list = top_species['Species'].tolist()\n",
        "heatmap_df = paired_df[paired_df['Species'].isin(top_species_list)]\n",
        "heatmap_data = heatmap_df.groupby(['Species','Habitat']).size().unstack(fill_value=0)\n",
        "plt.figure(figsize=(8,6))\n",
        "sns.heatmap(heatmap_data, annot=True, fmt='d', cmap='YlGnBu')\n",
        "plt.title(\"Observation Heatmap for Top 10 Common Species\")\n",
        "plt.tight_layout()\n",
        "plt.show()"
      ]
    },
    {
      "cell_type": "markdown",
      "metadata": {
        "id": "gCFgpxoyphqP"
      },
      "source": [
        "##### 1. Why did you pick the specific chart?"
      ]
    },
    {
      "cell_type": "markdown",
      "metadata": {
        "id": "TVxDimi2phqP"
      },
      "source": [
        "A heatmap intuitively shows the distribution and count of the top 10 species across both habitats, using color intensity to quickly convey abundance patterns in a compact matrix form."
      ]
    },
    {
      "cell_type": "markdown",
      "metadata": {
        "id": "OVtJsKN_phqQ"
      },
      "source": [
        "##### 2. What is/are the insight(s) found from the chart?"
      ]
    },
    {
      "cell_type": "markdown",
      "metadata": {
        "id": "ngGi97qjphqQ"
      },
      "source": [
        "The heatmap reveals which species are more abundant in forests versus grasslands and highlights species that are strongly associated with one habitat or occur frequently in both. This helps identify habitat specialists and generalists."
      ]
    },
    {
      "cell_type": "markdown",
      "metadata": {
        "id": "lssrdh5qphqQ"
      },
      "source": [
        "##### 3. Will the gained insights help creating a positive business impact?\n",
        "Are there any insights that lead to negative growth? Justify with specific reason."
      ]
    },
    {
      "cell_type": "markdown",
      "metadata": {
        "id": "tBpY5ekJphqQ"
      },
      "source": [
        "Yes, by identifying species-habitat relationships, conservation efforts can be better targeted to preserve crucial habitats for vulnerable or key species, enhancing biodiversity management."
      ]
    },
    {
      "cell_type": "markdown",
      "metadata": {
        "id": "U2RJ9gkRphqQ"
      },
      "source": [
        "#### Chart - 10"
      ]
    },
    {
      "cell_type": "code",
      "execution_count": null,
      "metadata": {
        "id": "GM7a4YP4phqQ"
      },
      "outputs": [],
      "source": [
        "# 10. Time-of-Day Observation Comparison\n",
        "import numpy as np\n",
        "\n",
        "plt.figure(figsize=(8,8))\n",
        "ax = plt.subplot(111, polar=True)\n",
        "\n",
        "for habitat in hourly_counts['Habitat'].unique():\n",
        "    subset = hourly_counts[hourly_counts['Habitat'] == habitat]\n",
        "    theta = np.deg2rad(subset['Hour'] * 15)  # 24 hours -> 360 degrees\n",
        "    ax.plot(theta, subset['Count'], marker='o', label=habitat, linewidth=2)\n",
        "\n",
        "ax.set_theta_direction(-1)  # Clockwise\n",
        "ax.set_theta_offset(np.pi/2.0)  # Start at top\n",
        "ax.set_xticks(np.deg2rad(np.arange(0, 360, 30)))\n",
        "ax.set_xticklabels(range(0, 24, 2))\n",
        "ax.set_title(\"Time-of-Day Observation (Clock View)\", y=1.1)\n",
        "ax.legend(loc='upper right', bbox_to_anchor=(1.1, 1.1))\n",
        "plt.show()\n"
      ]
    },
    {
      "cell_type": "markdown",
      "metadata": {
        "id": "1M8mcRywphqQ"
      },
      "source": [
        "##### 1. Why did you pick the specific chart?"
      ]
    },
    {
      "cell_type": "markdown",
      "metadata": {
        "id": "8agQvks0phqQ"
      },
      "source": [
        "A polar plot is effective for displaying cyclical data like the time of day, visually representing bird observation counts across 24 hours in a circular, clock-like format. This helps highlight daily activity rhythms for each habitat intuitively."
      ]
    },
    {
      "cell_type": "markdown",
      "metadata": {
        "id": "tgIPom80phqQ"
      },
      "source": [
        "##### 2. What is/are the insight(s) found from the chart?"
      ]
    },
    {
      "cell_type": "markdown",
      "metadata": {
        "id": "Qp13pnNzphqQ"
      },
      "source": [
        "The chart reveals peak bird observation periods for forests and grasslands, typically showing higher counts during early morning and possibly late afternoon/evening, reflecting natural bird activity patterns aligned with daylight and behavior cycles."
      ]
    },
    {
      "cell_type": "markdown",
      "metadata": {
        "id": "JMzcOPDDphqR"
      },
      "source": [
        "##### 3. Will the gained insights help creating a positive business impact?\n",
        "Are there any insights that lead to negative growth? Justify with specific reason."
      ]
    },
    {
      "cell_type": "markdown",
      "metadata": {
        "id": "R4Ka1PC2phqR"
      },
      "source": [
        "If there are extended periods with very low observation counts, this could suggest reduced bird activity due to environmental stressors (e.g., human disturbance, habitat degradation) during key times, which may negatively impact monitoring effectiveness and signal broader ecosystem issues requiring attention."
      ]
    },
    {
      "cell_type": "markdown",
      "metadata": {
        "id": "JcMwzZxoAimU"
      },
      "source": [
        "## **5. Solution to Business Objective**"
      ]
    },
    {
      "cell_type": "markdown",
      "metadata": {
        "id": "8G2x9gOozGDZ"
      },
      "source": [
        "#### What do you suggest the client to achieve Business Objective ?\n",
        "Explain Briefly."
      ]
    },
    {
      "cell_type": "markdown",
      "metadata": {
        "id": "pASKb0qOza21"
      },
      "source": [
        "->Data limited to surveyed times & locations; possible sampling bias.\n",
        "\n",
        "->Observer effort not normalized; future analyses should control for detection bias.\n",
        "\n",
        "->Expand with geospatial mapping, statistical significance tests, and predictive models."
      ]
    },
    {
      "cell_type": "markdown",
      "metadata": {
        "id": "gCX9965dhzqZ"
      },
      "source": [
        "# **Conclusion**"
      ]
    },
    {
      "cell_type": "markdown",
      "metadata": {
        "id": "Fjb1IsQkh3yE"
      },
      "source": [
        "This analysis of bird observations across forest and grassland habitats reveals that forests support greater species richness and evenness (148 species, mean Shannon Index 3.41) compared to grasslands (127 species, mean Shannon Index 3.06), while grasslands host a few highly abundant dominant species. Both environments are essential for conservation, harboring numerous threatened and stewardship species, though forests have slightly more of each. The highest bird diversity was observed during summer mornings at moderate temperature (15–25 °C) and humidity (50–70%), indicating clear environmental influences. Overall, the results emphasize the importance of preserving both habitat types and adopting targeted, seasonally-aware conservation strategies to sustain regional bird diversity in the face of ongoing habitat change."
      ]
    },
    {
      "cell_type": "markdown",
      "metadata": {
        "id": "gIfDvo9L0UH2"
      },
      "source": [
        "### ***Hurrah! You have successfully completed your EDA Capstone Project !!!***"
      ]
    }
  ],
  "metadata": {
    "colab": {
      "collapsed_sections": [
        "vncDsAP0Gaoa",
        "FJNUwmbgGyua",
        "w6K7xa23Elo4",
        "yQaldy8SH6Dl",
        "PH-0ReGfmX4f",
        "mDgbUHAGgjLW",
        "O_i_v8NEhb9l",
        "HhfV-JJviCcP",
        "Y3lxredqlCYt",
        "3RnN4peoiCZX",
        "x71ZqKXriCWQ",
        "7hBIi_osiCS2",
        "JlHwYmJAmNHm",
        "35m5QtbWiB9F",
        "PoPl-ycgm1ru",
        "H0kj-8xxnORC",
        "nA9Y7ga8ng1Z",
        "PBTbrJXOngz2",
        "u3PMJOP6ngxN",
        "dauF4eBmngu3",
        "bKJF3rekwFvQ",
        "MSa1f5Uengrz",
        "GF8Ens_Soomf",
        "0wOQAZs5pc--",
        "K5QZ13OEpz2H",
        "lQ7QKXXCp7Bj",
        "448CDAPjqfQr",
        "KSlN3yHqYklG",
        "t6dVpIINYklI",
        "ijmpgYnKYklI",
        "-JiQyfWJYklI",
        "EM7whBJCYoAo",
        "fge-S5ZAYoAp",
        "85gYPyotYoAp",
        "RoGjAbkUYoAp",
        "4Of9eVA-YrdM",
        "iky9q4vBYrdO",
        "F6T5p64dYrdO",
        "y-Ehk30pYrdP",
        "bamQiAODYuh1",
        "QHF8YVU7Yuh3",
        "GwzvFGzlYuh3",
        "qYpmQ266Yuh3",
        "OH-pJp9IphqM",
        "bbFf2-_FphqN",
        "_ouA3fa0phqN",
        "Seke61FWphqN",
        "PIIx-8_IphqN",
        "t27r6nlMphqO",
        "r2jJGEOYphqO",
        "b0JNsNcRphqO",
        "BZR9WyysphqO",
        "jj7wYXLtphqO",
        "eZrbJ2SmphqO",
        "rFu4xreNphqO",
        "YJ55k-q6phqO",
        "gCFgpxoyphqP",
        "OVtJsKN_phqQ",
        "lssrdh5qphqQ",
        "U2RJ9gkRphqQ",
        "1M8mcRywphqQ",
        "tgIPom80phqQ",
        "JMzcOPDDphqR",
        "x-EpHcCOp1ci",
        "X_VqEhTip1ck",
        "8zGJKyg5p1ck",
        "PVzmfK_Ep1ck",
        "n3dbpmDWp1ck",
        "ylSl6qgtp1ck",
        "ZWILFDl5p1ck",
        "M7G43BXep1ck",
        "Ag9LCva-p1cl",
        "E6MkPsBcp1cl",
        "2cELzS2fp1cl",
        "3MPXvC8up1cl",
        "NC_X3p0fY2L0",
        "UV0SzAkaZNRQ",
        "YPEH6qLeZNRQ",
        "q29F0dvdveiT",
        "EXh0U9oCveiU",
        "22aHeOlLveiV",
        "JcMwzZxoAimU",
        "8G2x9gOozGDZ",
        "gCX9965dhzqZ",
        "gIfDvo9L0UH2"
      ],
      "private_outputs": true,
      "provenance": []
    },
    "kernelspec": {
      "display_name": "Python 3",
      "name": "python3"
    },
    "language_info": {
      "name": "python"
    }
  },
  "nbformat": 4,
  "nbformat_minor": 0
}
